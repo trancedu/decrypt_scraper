{
 "cells": [
  {
   "cell_type": "code",
   "execution_count": 1,
   "metadata": {},
   "outputs": [
    {
     "ename": "NoSuchElementException",
     "evalue": "Message: no such element: Unable to locate element: {\"method\":\"css selector\",\"selector\":\".enter-lottery-link\"}\n  (Session info: chrome=103.0.5060.134)\nStacktrace:\nBacktrace:\n\tOrdinal0 [0x00A75FD3+2187219]\n\tOrdinal0 [0x00A0E6D1+1763025]\n\tOrdinal0 [0x00923E78+802424]\n\tOrdinal0 [0x00951C10+990224]\n\tOrdinal0 [0x00951EAB+990891]\n\tOrdinal0 [0x0097EC92+1174674]\n\tOrdinal0 [0x0096CBD4+1100756]\n\tOrdinal0 [0x0097CFC2+1167298]\n\tOrdinal0 [0x0096C9A6+1100198]\n\tOrdinal0 [0x00946F80+946048]\n\tOrdinal0 [0x00947E76+949878]\n\tGetHandleVerifier [0x00D190C2+2721218]\n\tGetHandleVerifier [0x00D0AAF0+2662384]\n\tGetHandleVerifier [0x00B0137A+526458]\n\tGetHandleVerifier [0x00B00416+522518]\n\tOrdinal0 [0x00A14EAB+1789611]\n\tOrdinal0 [0x00A197A8+1808296]\n\tOrdinal0 [0x00A19895+1808533]\n\tOrdinal0 [0x00A226C1+1844929]\n\tBaseThreadInitThunk [0x766E6739+25]\n\tRtlGetFullPathName_UEx [0x77C68FEF+1215]\n\tRtlGetFullPathName_UEx [0x77C68FBD+1165]\n",
     "output_type": "error",
     "traceback": [
      "\u001b[1;31m---------------------------------------------------------------------------\u001b[0m",
      "\u001b[1;31mNoSuchElementException\u001b[0m                    Traceback (most recent call last)",
      "\u001b[1;32mc:\\Users\\29468\\Downloads\\decrypt_scraper\\selenium_learn.ipynb Cell 1\u001b[0m in \u001b[0;36m<cell line: 12>\u001b[1;34m()\u001b[0m\n\u001b[0;32m     <a href='vscode-notebook-cell:/c%3A/Users/29468/Downloads/decrypt_scraper/selenium_learn.ipynb#ch0000000?line=9'>10</a>\u001b[0m driver\u001b[39m.\u001b[39mget(url)\n\u001b[0;32m     <a href='vscode-notebook-cell:/c%3A/Users/29468/Downloads/decrypt_scraper/selenium_learn.ipynb#ch0000000?line=10'>11</a>\u001b[0m driver\u001b[39m.\u001b[39mimplicitly_wait(\u001b[39m3\u001b[39m)\n\u001b[1;32m---> <a href='vscode-notebook-cell:/c%3A/Users/29468/Downloads/decrypt_scraper/selenium_learn.ipynb#ch0000000?line=11'>12</a>\u001b[0m lottery_link \u001b[39m=\u001b[39m driver\u001b[39m.\u001b[39;49mfind_element(by\u001b[39m=\u001b[39;49mBy\u001b[39m.\u001b[39;49mCLASS_NAME, value\u001b[39m=\u001b[39;49m\u001b[39m\"\u001b[39;49m\u001b[39menter-lottery-link\u001b[39;49m\u001b[39m\"\u001b[39;49m)\n\u001b[0;32m     <a href='vscode-notebook-cell:/c%3A/Users/29468/Downloads/decrypt_scraper/selenium_learn.ipynb#ch0000000?line=12'>13</a>\u001b[0m \u001b[39mprint\u001b[39m(\u001b[39mf\u001b[39m\u001b[39m\"\u001b[39m\u001b[39m{\u001b[39;00mlottery_link\u001b[39m.\u001b[39mtext\u001b[39m}\u001b[39;00m\u001b[39m\"\u001b[39m)\n",
      "File \u001b[1;32mc:\\Users\\29468\\anaconda3\\lib\\site-packages\\selenium\\webdriver\\remote\\webdriver.py:857\u001b[0m, in \u001b[0;36mWebDriver.find_element\u001b[1;34m(self, by, value)\u001b[0m\n\u001b[0;32m    854\u001b[0m     by \u001b[39m=\u001b[39m By\u001b[39m.\u001b[39mCSS_SELECTOR\n\u001b[0;32m    855\u001b[0m     value \u001b[39m=\u001b[39m \u001b[39m'\u001b[39m\u001b[39m[name=\u001b[39m\u001b[39m\"\u001b[39m\u001b[39m%s\u001b[39;00m\u001b[39m\"\u001b[39m\u001b[39m]\u001b[39m\u001b[39m'\u001b[39m \u001b[39m%\u001b[39m value\n\u001b[1;32m--> 857\u001b[0m \u001b[39mreturn\u001b[39;00m \u001b[39mself\u001b[39;49m\u001b[39m.\u001b[39;49mexecute(Command\u001b[39m.\u001b[39;49mFIND_ELEMENT, {\n\u001b[0;32m    858\u001b[0m     \u001b[39m'\u001b[39;49m\u001b[39musing\u001b[39;49m\u001b[39m'\u001b[39;49m: by,\n\u001b[0;32m    859\u001b[0m     \u001b[39m'\u001b[39;49m\u001b[39mvalue\u001b[39;49m\u001b[39m'\u001b[39;49m: value})[\u001b[39m'\u001b[39m\u001b[39mvalue\u001b[39m\u001b[39m'\u001b[39m]\n",
      "File \u001b[1;32mc:\\Users\\29468\\anaconda3\\lib\\site-packages\\selenium\\webdriver\\remote\\webdriver.py:435\u001b[0m, in \u001b[0;36mWebDriver.execute\u001b[1;34m(self, driver_command, params)\u001b[0m\n\u001b[0;32m    433\u001b[0m response \u001b[39m=\u001b[39m \u001b[39mself\u001b[39m\u001b[39m.\u001b[39mcommand_executor\u001b[39m.\u001b[39mexecute(driver_command, params)\n\u001b[0;32m    434\u001b[0m \u001b[39mif\u001b[39;00m response:\n\u001b[1;32m--> 435\u001b[0m     \u001b[39mself\u001b[39;49m\u001b[39m.\u001b[39;49merror_handler\u001b[39m.\u001b[39;49mcheck_response(response)\n\u001b[0;32m    436\u001b[0m     response[\u001b[39m'\u001b[39m\u001b[39mvalue\u001b[39m\u001b[39m'\u001b[39m] \u001b[39m=\u001b[39m \u001b[39mself\u001b[39m\u001b[39m.\u001b[39m_unwrap_value(\n\u001b[0;32m    437\u001b[0m         response\u001b[39m.\u001b[39mget(\u001b[39m'\u001b[39m\u001b[39mvalue\u001b[39m\u001b[39m'\u001b[39m, \u001b[39mNone\u001b[39;00m))\n\u001b[0;32m    438\u001b[0m     \u001b[39mreturn\u001b[39;00m response\n",
      "File \u001b[1;32mc:\\Users\\29468\\anaconda3\\lib\\site-packages\\selenium\\webdriver\\remote\\errorhandler.py:247\u001b[0m, in \u001b[0;36mErrorHandler.check_response\u001b[1;34m(self, response)\u001b[0m\n\u001b[0;32m    245\u001b[0m         alert_text \u001b[39m=\u001b[39m value[\u001b[39m'\u001b[39m\u001b[39malert\u001b[39m\u001b[39m'\u001b[39m]\u001b[39m.\u001b[39mget(\u001b[39m'\u001b[39m\u001b[39mtext\u001b[39m\u001b[39m'\u001b[39m)\n\u001b[0;32m    246\u001b[0m     \u001b[39mraise\u001b[39;00m exception_class(message, screen, stacktrace, alert_text)  \u001b[39m# type: ignore[call-arg]  # mypy is not smart enough here\u001b[39;00m\n\u001b[1;32m--> 247\u001b[0m \u001b[39mraise\u001b[39;00m exception_class(message, screen, stacktrace)\n",
      "\u001b[1;31mNoSuchElementException\u001b[0m: Message: no such element: Unable to locate element: {\"method\":\"css selector\",\"selector\":\".enter-lottery-link\"}\n  (Session info: chrome=103.0.5060.134)\nStacktrace:\nBacktrace:\n\tOrdinal0 [0x00A75FD3+2187219]\n\tOrdinal0 [0x00A0E6D1+1763025]\n\tOrdinal0 [0x00923E78+802424]\n\tOrdinal0 [0x00951C10+990224]\n\tOrdinal0 [0x00951EAB+990891]\n\tOrdinal0 [0x0097EC92+1174674]\n\tOrdinal0 [0x0096CBD4+1100756]\n\tOrdinal0 [0x0097CFC2+1167298]\n\tOrdinal0 [0x0096C9A6+1100198]\n\tOrdinal0 [0x00946F80+946048]\n\tOrdinal0 [0x00947E76+949878]\n\tGetHandleVerifier [0x00D190C2+2721218]\n\tGetHandleVerifier [0x00D0AAF0+2662384]\n\tGetHandleVerifier [0x00B0137A+526458]\n\tGetHandleVerifier [0x00B00416+522518]\n\tOrdinal0 [0x00A14EAB+1789611]\n\tOrdinal0 [0x00A197A8+1808296]\n\tOrdinal0 [0x00A19895+1808533]\n\tOrdinal0 [0x00A226C1+1844929]\n\tBaseThreadInitThunk [0x766E6739+25]\n\tRtlGetFullPathName_UEx [0x77C68FEF+1215]\n\tRtlGetFullPathName_UEx [0x77C68FBD+1165]\n"
     ]
    }
   ],
   "source": [
    "import os\n",
    "from selenium import webdriver\n",
    "from selenium.webdriver.common.by import By\n",
    "from selenium.webdriver.support.ui import WebDriverWait\n",
    "from selenium.webdriver.support import expected_conditions as EC\n",
    "\n",
    "os.environ[\"PATH\"] += r\"C:\\Users\\29468\\Downloads\\decrypt_scraper\"\n",
    "driver = webdriver.Chrome()\n",
    "url = \"https://lottery.broadwaydirect.com/show/aladdin/\"\n",
    "driver.get(url)\n",
    "driver.implicitly_wait(3)\n",
    "# lottery_link = driver.find_element(by=By.CLASS_NAME, value=\"enter-lottery-link\")\n",
    "# print(f\"{lottery_link.text}\")\n",
    "# lottery_link.click()"
   ]
  },
  {
   "cell_type": "code",
   "execution_count": 5,
   "metadata": {},
   "outputs": [],
   "source": [
    "# WebDriverWait(driver, 3).until(\n",
    "#     EC.text_to_be_present_in_element((By.CLASS_NAME, \"hide-for-tablets\"), \"Enter Lottery\")\n",
    "# )"
   ]
  },
  {
   "cell_type": "code",
   "execution_count": null,
   "metadata": {},
   "outputs": [],
   "source": [
    "element = driver.find_element(by=By.CLASS_NAME, value=\"show-info-section\")\n",
    "print(f\"{element.text}\")"
   ]
  },
  {
   "cell_type": "code",
   "execution_count": 10,
   "metadata": {},
   "outputs": [],
   "source": [
    "element.click()"
   ]
  },
  {
   "cell_type": "code",
   "execution_count": null,
   "metadata": {},
   "outputs": [],
   "source": []
  }
 ],
 "metadata": {
  "kernelspec": {
   "display_name": "Python 3.9.12 ('base')",
   "language": "python",
   "name": "python3"
  },
  "language_info": {
   "codemirror_mode": {
    "name": "ipython",
    "version": 3
   },
   "file_extension": ".py",
   "mimetype": "text/x-python",
   "name": "python",
   "nbconvert_exporter": "python",
   "pygments_lexer": "ipython3",
   "version": "3.9.12"
  },
  "orig_nbformat": 4,
  "vscode": {
   "interpreter": {
    "hash": "841e27f2a14d44ccd92f4291012cb59f687474acc5b2dafa531afbd4ea5b7136"
   }
  }
 },
 "nbformat": 4,
 "nbformat_minor": 2
}
